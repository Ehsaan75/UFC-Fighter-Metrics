{
 "cells": [
  {
   "cell_type": "code",
   "execution_count": 1,
   "id": "5fdbe4d1-d1cf-4409-92bc-86dba4f2f2d2",
   "metadata": {},
   "outputs": [],
   "source": [
    "# Importing necessary libraries\n",
    "import pandas as pd\n",
    "\n",
    "# Load your fighter data from CSV\n",
    "df = pd.read_csv('../scraper/ufcstats/fighters_data.csv')\n",
    "\n",
    "# Convert percentage columns to decimal form\n",
    "percentage_columns = ['striking_accuracy', 'striking_defense', 'takedown_accuracy', 'takedown_defense']\n",
    "for col in percentage_columns:\n",
    "    df[col] = df[col].str.replace('%', '').astype(float) / 100\n",
    "\n",
    "# Calculate Win Percentage\n",
    "df['win_percentage'] = (df['wins'] / (df['wins'] + df['losses'])) * 100\n",
    "\n",
    "# Define a success threshold for high success (70%)\n",
    "success_threshold = 70\n",
    "df['high_success'] = (df['win_percentage'] >= success_threshold).astype(int)\n",
    "\n",
    "# Display all fighters in a nice table format with full DataFrame display options\n",
    "pd.set_option('display.max_rows', 15)  # Display all rows\n",
    "pd.set_option('display.max_columns', None)  # Display all columns\n",
    "pd.set_option('display.width', 1000)  # Set display width\n",
    "\n",
    "# Display the final DataFrame\n",
    "df\n",
    "\n",
    "# Save the cleaned data to a CSV file in the root directory\n",
    "df.to_csv('cleaned_fighters_data.csv', index=False)\n"
   ]
  },
  {
   "cell_type": "code",
   "execution_count": null,
   "id": "68be7461-0fea-482d-b93b-f23ec3c83896",
   "metadata": {},
   "outputs": [],
   "source": []
  },
  {
   "cell_type": "code",
   "execution_count": null,
   "id": "9b978ec9-bc04-4916-8802-c6d66491b27d",
   "metadata": {},
   "outputs": [],
   "source": []
  }
 ],
 "metadata": {
  "kernelspec": {
   "display_name": "Python 3 (ipykernel)",
   "language": "python",
   "name": "python3"
  },
  "language_info": {
   "codemirror_mode": {
    "name": "ipython",
    "version": 3
   },
   "file_extension": ".py",
   "mimetype": "text/x-python",
   "name": "python",
   "nbconvert_exporter": "python",
   "pygments_lexer": "ipython3",
   "version": "3.13.0"
  }
 },
 "nbformat": 4,
 "nbformat_minor": 5
}
